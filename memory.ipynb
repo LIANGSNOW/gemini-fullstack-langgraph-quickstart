{
 "cells": [
  {
   "cell_type": "code",
   "execution_count": 40,
   "id": "61ef3572",
   "metadata": {},
   "outputs": [
    {
     "data": {
      "text/plain": [
       "True"
      ]
     },
     "execution_count": 40,
     "metadata": {},
     "output_type": "execute_result"
    }
   ],
   "source": [
    "from langgraph.prebuilt import create_react_agent\n",
    "from langchain_deepseek import ChatDeepSeek\n",
    "from dotenv import load_dotenv\n",
    "from typing import List, Dict, Any,TypedDict\n",
    "import uuid \n",
    "\n",
    "from langgraph.checkpoint.memory import InMemorySaver\n",
    "from langgraph.constants import START\n",
    "from langgraph.graph import StateGraph\n",
    "from langgraph.types import Command,interrupt\n",
    "\n",
    "load_dotenv()\n",
    "# https://langchain-ai.github.io/langgraph/how-tos/human_in_the_loop/add-human-in-the-loop/#pause-using-interrupt\n",
    "# https://langchain-ai.github.io/langgraph/how-tos/memory/add-memory/#patterns\n",
    "# https://langchain-ai.github.io/langgraph/tutorials/get-started/4-human-in-the-loop/"
   ]
  },
  {
   "cell_type": "code",
   "execution_count": 31,
   "id": "63a0ed30",
   "metadata": {},
   "outputs": [
    {
     "name": "stdout",
     "output_type": "stream",
     "text": [
      "[Interrupt(value={'text_to_revise': 'Hello, world!'}, resumable=True, ns=['human_node:f14cc7f6-727b-16d5-0614-86fd0170d4b1'])]\n",
      "{'some_text': 'Edited text'}\n"
     ]
    }
   ],
   "source": [
    "class State(TypedDict):\n",
    "    some_text: str\n",
    "\n",
    "def human_node(state: State):\n",
    "    value = interrupt({\n",
    "        'text_to_revise': state['some_text']\n",
    "    })\n",
    "    return {'some_text': value}\n",
    "\n",
    "graph_builder = StateGraph(State)\n",
    "graph_builder.add_node(\"human_node\", human_node)\n",
    "graph_builder.add_edge(START, \"human_node\")\n",
    "\n",
    "checkpointer = InMemorySaver()\n",
    "\n",
    "graph = graph_builder.compile(checkpointer=checkpointer)\n",
    "\n",
    "config = {\"configurable\": {\"thread_id\": 'thread_1'}}\n",
    "\n",
    "result = graph.invoke({\"some_text\": \"Hello, world!\"}, config=config)\n",
    "\n",
    "print(result['__interrupt__'])\n",
    "    \n",
    "print(graph.invoke(Command(resume=\"Edited text\"), config=config)) \n"
   ]
  },
  {
   "cell_type": "code",
   "execution_count": 20,
   "id": "da24f056",
   "metadata": {},
   "outputs": [
    {
     "data": {
      "text/plain": [
       "{'some_text': 'Hello, world!',\n",
       " '__interrupt__': [Interrupt(value={'text_to_revise': 'Hello, world!'}, resumable=True, ns=['human_node:e6721fd7-e076-5eb3-ba14-cfe4ca85ca0b'])]}"
      ]
     },
     "execution_count": 20,
     "metadata": {},
     "output_type": "execute_result"
    }
   ],
   "source": [
    "result"
   ]
  },
  {
   "cell_type": "code",
   "execution_count": 41,
   "id": "d9104705",
   "metadata": {},
   "outputs": [
    {
     "name": "stdout",
     "output_type": "stream",
     "text": [
      "{'llm_output': 'This is the generated output.', '__interrupt__': [Interrupt(value={'question': 'Do you approve the following output?', 'llm_output': 'This is the generated output.'}, resumable=True, ns=['human_approval:1b143ea6-98f3-1554-7fa6-5c857e41597a'])]}\n",
      "✅ Approved path taken.\n",
      "{'llm_output': 'This is the generated output.', 'decision': 'approved'}\n"
     ]
    }
   ],
   "source": [
    "from typing import Literal, TypedDict\n",
    "import uuid\n",
    "\n",
    "from langgraph.constants import START, END\n",
    "from langgraph.graph import StateGraph\n",
    "from langgraph.types import interrupt, Command\n",
    "from langgraph.checkpoint.memory import MemorySaver\n",
    "\n",
    "# Define the shared graph state\n",
    "class State(TypedDict):\n",
    "    llm_output: str\n",
    "    decision: str\n",
    "\n",
    "# Simulate an LLM output node\n",
    "def generate_llm_output(state: State) -> State:\n",
    "    return {\"llm_output\": \"This is the generated output.\"}\n",
    "\n",
    "# Human approval node\n",
    "def human_approval(state: State) -> Command[Literal[\"approved_path\", \"rejected_path\"]]:\n",
    "    decision = interrupt({\n",
    "        \"question\": \"Do you approve the following output?\",\n",
    "        \"llm_output\": state[\"llm_output\"]\n",
    "    })\n",
    "\n",
    "    if decision == \"approve\":\n",
    "        return Command(goto=\"approved_path\", update={\"decision\": \"approved\"})\n",
    "    else:\n",
    "        return Command(goto=\"rejected_path\", update={\"decision\": \"rejected\"})\n",
    "\n",
    "# Next steps after approval\n",
    "def approved_node(state: State) -> State:\n",
    "    print(\"✅ Approved path taken.\")\n",
    "    return state\n",
    "\n",
    "# Alternative path after rejection\n",
    "def rejected_node(state: State) -> State:\n",
    "    print(\"❌ Rejected path taken.\")\n",
    "    return state\n",
    "\n",
    "# Build the graph\n",
    "builder = StateGraph(State)\n",
    "builder.add_node(\"generate_llm_output\", generate_llm_output)\n",
    "builder.add_node(\"human_approval\", human_approval)\n",
    "builder.add_node(\"approved_path\", approved_node)\n",
    "builder.add_node(\"rejected_path\", rejected_node)\n",
    "\n",
    "builder.set_entry_point(\"generate_llm_output\")\n",
    "builder.add_edge(\"generate_llm_output\", \"human_approval\")\n",
    "builder.add_edge(\"approved_path\", END)\n",
    "builder.add_edge(\"rejected_path\", END)\n",
    "\n",
    "checkpointer = MemorySaver()\n",
    "graph = builder.compile(checkpointer=checkpointer)\n",
    "\n",
    "# Run until interrupt\n",
    "config = {\"configurable\": {\"thread_id\": uuid.uuid4()}}\n",
    "result = graph.invoke({}, config=config)\n",
    "print(result)\n",
    "# Output:\n",
    "# Interrupt(value={'question': 'Do you approve the following output?', 'llm_output': 'This is the generated output.'}, ...)\n",
    "\n",
    "# Simulate resuming with human input\n",
    "# To test rejection, replace resume=\"approve\" with resume=\"reject\"\n",
    "final_result = graph.invoke(Command(resume=\"approve\"), config=config)\n",
    "print(final_result)"
   ]
  },
  {
   "cell_type": "code",
   "execution_count": 42,
   "id": "1f568a60",
   "metadata": {},
   "outputs": [
    {
     "name": "stdout",
     "output_type": "stream",
     "text": [
      "[Interrupt(value={'task': 'Please review and edit the generated summary if necessary.', 'generated_summary': 'The cat sat on the mat and looked at the stars.'}, resumable=True, ns=['human_review_edit:bd593371-0567-ef6c-ae37-c11e96b98dd0'])]\n",
      "✅ Using edited summary: The cat lay on the rug, gazing peacefully at the night sky.\n",
      "{'summary': 'The cat lay on the rug, gazing peacefully at the night sky.'}\n"
     ]
    }
   ],
   "source": [
    "from typing import TypedDict\n",
    "import uuid\n",
    "\n",
    "from langgraph.constants import START, END\n",
    "from langgraph.graph import StateGraph\n",
    "from langgraph.types import interrupt, Command\n",
    "from langgraph.checkpoint.memory import MemorySaver\n",
    "\n",
    "# Define the graph state\n",
    "class State(TypedDict):\n",
    "    summary: str\n",
    "\n",
    "# Simulate an LLM summary generation\n",
    "def generate_summary(state: State) -> State:\n",
    "    return {\n",
    "        \"summary\": \"The cat sat on the mat and looked at the stars.\"\n",
    "    }\n",
    "\n",
    "# Human editing node\n",
    "def human_review_edit(state: State) -> State:\n",
    "    result = interrupt({\n",
    "        \"task\": \"Please review and edit the generated summary if necessary.\",\n",
    "        \"generated_summary\": state[\"summary\"]\n",
    "    })\n",
    "    return {\n",
    "        \"summary\": result[\"edited_summary\"]\n",
    "    }\n",
    "\n",
    "# Simulate downstream use of the edited summary\n",
    "def downstream_use(state: State) -> State:\n",
    "    print(f\"✅ Using edited summary: {state['summary']}\")\n",
    "    return state\n",
    "\n",
    "# Build the graph\n",
    "builder = StateGraph(State)\n",
    "builder.add_node(\"generate_summary\", generate_summary)\n",
    "builder.add_node(\"human_review_edit\", human_review_edit)\n",
    "builder.add_node(\"downstream_use\", downstream_use)\n",
    "\n",
    "builder.set_entry_point(\"generate_summary\")\n",
    "builder.add_edge(\"generate_summary\", \"human_review_edit\")\n",
    "builder.add_edge(\"human_review_edit\", \"downstream_use\")\n",
    "builder.add_edge(\"downstream_use\", END)\n",
    "\n",
    "# Set up in-memory checkpointing for interrupt support\n",
    "checkpointer = MemorySaver()\n",
    "graph = builder.compile(checkpointer=checkpointer)\n",
    "\n",
    "# Invoke the graph until it hits the interrupt\n",
    "config = {\"configurable\": {\"thread_id\": uuid.uuid4()}}\n",
    "result = graph.invoke({}, config=config)\n",
    "\n",
    "# Output interrupt payload\n",
    "print(result[\"__interrupt__\"])\n",
    "# Example output:\n",
    "# Interrupt(\n",
    "#   value={\n",
    "#     'task': 'Please review and edit the generated summary if necessary.',\n",
    "#     'generated_summary': 'The cat sat on the mat and looked at the stars.'\n",
    "#   },\n",
    "#   resumable=True,\n",
    "#   ...\n",
    "# )\n",
    "\n",
    "# Resume the graph with human-edited input\n",
    "edited_summary = \"The cat lay on the rug, gazing peacefully at the night sky.\"\n",
    "resumed_result = graph.invoke(\n",
    "    Command(resume={\"edited_summary\": edited_summary}),\n",
    "    config=config\n",
    ")\n",
    "print(resumed_result)"
   ]
  },
  {
   "cell_type": "code",
   "execution_count": 3,
   "id": "506b3c1e",
   "metadata": {},
   "outputs": [],
   "source": [
    "llm = ChatDeepSeek(\n",
    "    model=\"deepseek-chat\",\n",
    "    temperature=1,\n",
    "    timeout=None,\n",
    "    max_retries=2,\n",
    "    )"
   ]
  },
  {
   "cell_type": "code",
   "execution_count": 33,
   "id": "0b328d9b",
   "metadata": {},
   "outputs": [
    {
     "data": {
      "text/plain": [
       "<langgraph.graph.state.StateGraph at 0x12b0353a0>"
      ]
     },
     "execution_count": 33,
     "metadata": {},
     "output_type": "execute_result"
    }
   ],
   "source": [
    "from typing import Annotated\n",
    "\n",
    "from langchain_tavily import TavilySearch\n",
    "from langchain_core.tools import tool\n",
    "from typing_extensions import TypedDict\n",
    "\n",
    "from langgraph.checkpoint.memory import MemorySaver\n",
    "from langgraph.graph import StateGraph, START, END\n",
    "from langgraph.graph.message import add_messages\n",
    "from langgraph.prebuilt import ToolNode, tools_condition\n",
    "\n",
    "from langgraph.types import Command, interrupt\n",
    "\n",
    "class State(TypedDict):\n",
    "    messages: Annotated[list, add_messages]\n",
    "\n",
    "graph_builder = StateGraph(State)\n",
    "\n",
    "@tool\n",
    "def human_assistance(query: str) -> str:\n",
    "    \"\"\"Request assistance from a human.\"\"\"\n",
    "    human_response = interrupt({\"query\": query})\n",
    "    return human_response[\"data\"]\n",
    "\n",
    "tool = TavilySearch(max_results=2)\n",
    "tools = [tool, human_assistance]\n",
    "llm_with_tools = llm.bind_tools(tools)\n",
    "\n",
    "def chatbot(state: State):\n",
    "    message = llm_with_tools.invoke(state[\"messages\"])\n",
    "    # Because we will be interrupting during tool execution,\n",
    "    # we disable parallel tool calling to avoid repeating any\n",
    "    # tool invocations when we resume.\n",
    "    assert len(message.tool_calls) <= 1\n",
    "    return {\"messages\": [message]}\n",
    "\n",
    "graph_builder.add_node(\"chatbot\", chatbot)\n",
    "\n",
    "tool_node = ToolNode(tools=tools)\n",
    "graph_builder.add_node(\"tools\", tool_node)\n",
    "\n",
    "graph_builder.add_conditional_edges(\n",
    "    \"chatbot\",\n",
    "    tools_condition,\n",
    ")\n",
    "graph_builder.add_edge(\"tools\", \"chatbot\")\n",
    "graph_builder.add_edge(START, \"chatbot\")"
   ]
  },
  {
   "cell_type": "code",
   "execution_count": 38,
   "id": "769a3200",
   "metadata": {},
   "outputs": [],
   "source": [
    "memory = MemorySaver()\n",
    "\n",
    "graph = graph_builder.compile(checkpointer=memory)"
   ]
  },
  {
   "cell_type": "code",
   "execution_count": 35,
   "id": "4bb67ffc",
   "metadata": {},
   "outputs": [
    {
     "data": {
      "image/png": "[encoded data removed]",
      "text/plain": [
       "<IPython.core.display.Image object>"
      ]
     },
     "metadata": {},
     "output_type": "display_data"
    }
   ],
   "source": [
    "from IPython.display import Image, display\n",
    "\n",
    "try:\n",
    "    display(Image(graph.get_graph().draw_mermaid_png()))\n",
    "except Exception:\n",
    "    # This requires some extra dependencies and is optional\n",
    "    pass"
   ]
  },
  {
   "cell_type": "code",
   "execution_count": 36,
   "id": "1bab0fd9",
   "metadata": {},
   "outputs": [
    {
     "name": "stdout",
     "output_type": "stream",
     "text": [
      "================================\u001b[1m Human Message \u001b[0m=================================\n",
      "\n",
      "I need some expert guidance for building an AI agent. Could you request assistance for me?\n",
      "==================================\u001b[1m Ai Message \u001b[0m==================================\n",
      "Tool Calls:\n",
      "  human_assistance (call_0_5198bbaa-a906-4e25-af01-55a1a0aeb90c)\n",
      " Call ID: call_0_5198bbaa-a906-4e25-af01-55a1a0aeb90c\n",
      "  Args:\n",
      "    query: I need expert guidance for building an AI agent.\n"
     ]
    }
   ],
   "source": [
    "user_input = \"I need some expert guidance for building an AI agent. Could you request assistance for me?\"\n",
    "config = {\"configurable\": {\"thread_id\": \"1\"}}\n",
    "\n",
    "events = graph.stream(\n",
    "    {\"messages\": [{\"role\": \"user\", \"content\": user_input}]},\n",
    "    config,\n",
    "    stream_mode=\"values\",\n",
    ")\n",
    "for event in events:\n",
    "    if \"messages\" in event:\n",
    "        event[\"messages\"][-1].pretty_print()"
   ]
  },
  {
   "cell_type": "code",
   "execution_count": 37,
   "id": "252c01b3",
   "metadata": {},
   "outputs": [
    {
     "data": {
      "text/plain": [
       "('tools',)"
      ]
     },
     "execution_count": 37,
     "metadata": {},
     "output_type": "execute_result"
    }
   ],
   "source": [
    "snapshot = graph.get_state(config)\n",
    "snapshot.next"
   ]
  },
  {
   "cell_type": "code",
   "execution_count": 24,
   "id": "37a2f4a8",
   "metadata": {},
   "outputs": [
    {
     "name": "stdout",
     "output_type": "stream",
     "text": [
      "==================================\u001b[1m Ai Message \u001b[0m==================================\n",
      "Tool Calls:\n",
      "  human_assistance (call_0_bb59d6ce-e99c-4f69-921f-f37ad66d716f)\n",
      " Call ID: call_0_bb59d6ce-e99c-4f69-921f-f37ad66d716f\n",
      "  Args:\n",
      "    query: I need expert guidance for building an AI agent. Could you connect me with a specialist who can assist with the development process, including design, implementation, and deployment?\n",
      "=================================\u001b[1m Tool Message \u001b[0m=================================\n",
      "Name: human_assistance\n",
      "\n",
      "We, the experts are here to help! We'd recommend you check out LangGraph to build your agent. It's much more reliable and extensible than simple autonomous agents.can you search the LangGraph in web an give a detail answer\n",
      "==================================\u001b[1m Ai Message \u001b[0m==================================\n",
      "Tool Calls:\n",
      "  tavily_search (call_0_23482ccc-24b1-4ff6-acf3-329fd12e0cb8)\n",
      " Call ID: call_0_23482ccc-24b1-4ff6-acf3-329fd12e0cb8\n",
      "  Args:\n",
      "    query: LangGraph\n",
      "    search_depth: advanced\n",
      "=================================\u001b[1m Tool Message \u001b[0m=================================\n",
      "Name: tavily_search\n",
      "\n",
      "{\"query\": \"LangGraph\", \"follow_up_questions\": null, \"answer\": null, \"images\": [], \"results\": [{\"url\": \"https://www.ibm.com/think/topics/langgraph\", \"title\": \"What is LangGraph? - IBM\", \"content\": \"LangGraph, created by LangChain, is an open source AI agent framework designed to build, deploy and manage complex generative AI agent workflows. It provides a set of tools and libraries that enable users to create, run and optimize large language models (LLMs) in a scalable and efficient manner. At its core, LangGraph uses the power of graph-based architectures to model and manage the intricate relationships between various components of an AI agent workflow. [...] Agent systems: LangGraph provides a framework for building agent-based systems, which can be used in applications such as robotics, autonomous vehicles or video games.\\n\\nLLM applications: By using LangGraph’s capabilities, developers can build more sophisticated AI models that learn and improve over time. Norwegian Cruise Line uses LangGraph to compile, construct and refine guest-facing AI solutions. This capability allows for improved and personalized guest experiences. [...] By using a graph-based architecture, LangGraph enables users to scale artificial intelligence workflows without slowing down or sacrificing efficiency. LangGraph uses enhanced decision-making by modeling complex relationships between nodes, which means it uses AI agents to analyze their past actions and feedback. In the world of LLMs, this process is referred to as reflection.\", \"score\": 0.9353998, \"raw_content\": null}, {\"title\": \"What is LangGraph? - GeeksforGeeks\", \"url\": \"https://www.geeksforgeeks.org/machine-learning/what-is-langgraph/\", \"content\": \"LangGraph is a Python library that helps you build applications like chatbots or AI agents by organizing their logic step-by-step using state machine model. This means you can define how the application should behave at each step such as classifying input, generating a response or calling a tool and the application remembers its progress by storing information in a shared state.\", \"score\": 0.9301101, \"raw_content\": null}], \"response_time\": 1.17}\n",
      "==================================\u001b[1m Ai Message \u001b[0m==================================\n",
      "\n",
      "Here’s a detailed overview of **LangGraph**, a powerful framework for building AI agents:\n",
      "\n",
      "### **What is LangGraph?**\n",
      "LangGraph is an open-source AI agent framework developed by LangChain. It is designed to help developers build, deploy, and manage complex generative AI workflows. The framework leverages **graph-based architectures** to model and optimize the relationships between different components of an AI agent system.\n",
      "\n",
      "---\n",
      "\n",
      "### **Key Features of LangGraph**\n",
      "1. **Graph-Based Architecture**:\n",
      "   - LangGraph uses nodes and edges to represent workflows, enabling scalable and efficient management of AI tasks.\n",
      "   - This architecture allows for **dynamic decision-making** and reflection, where AI agents can analyze past actions and feedback to improve performance.\n",
      "\n",
      "2. **State Machine Model**:\n",
      "   - It organizes the logic of AI applications (e.g., chatbots, autonomous agents) step-by-step, storing progress in a shared state.\n",
      "   - Developers can define how the application behaves at each stage, such as classifying input, generating responses, or calling external tools.\n",
      "\n",
      "3. **Scalability**:\n",
      "   - LangGraph is optimized for large-scale AI workflows, ensuring efficiency even as complexity grows.\n",
      "   - It supports **parallel processing** and distributed computing for high-performance applications.\n",
      "\n",
      "4. **Integration with LLMs**:\n",
      "   - The framework is compatible with large language models (LLMs), enabling developers to build sophisticated AI models that learn and adapt over time.\n",
      "\n",
      "5. **Use Cases**:\n",
      "   - **Agent Systems**: Robotics, autonomous vehicles, and video games.\n",
      "   - **LLM Applications**: Personalized customer experiences (e.g., Norwegian Cruise Line uses it for guest-facing AI solutions).\n",
      "   - **Chatbots and AI Assistants**: Step-by-step logic for conversational agents.\n",
      "\n",
      "---\n",
      "\n",
      "### **How LangGraph Works**\n",
      "- Developers define workflows as graphs, where nodes represent tasks (e.g., data processing, API calls) and edges define transitions between tasks.\n",
      "- The framework manages the state of the workflow, ensuring seamless execution and error handling.\n",
      "- It supports **reflection**, a process where AI agents evaluate their actions to improve future performance.\n",
      "\n",
      "---\n",
      "\n",
      "### **Getting Started with LangGraph**\n",
      "1. **Installation**:\n",
      "   - LangGraph is available as a Python library. You can install it via pip:\n",
      "     ```bash\n",
      "     pip install langgraph\n",
      "     ```\n",
      "\n",
      "2. **Documentation**:\n",
      "   - Explore the official documentation for tutorials and examples:\n",
      "     - [IBM's LangGraph Overview](https://www.ibm.com/think/topics/langgraph)\n",
      "     - [GeeksforGeeks Introduction](https://www.geeksforgeeks.org/machine-learning/what-is-langgraph/)\n",
      "\n",
      "3. **Community and Support**:\n",
      "   - Join forums or GitHub repositories related to LangGraph for community-driven support and updates.\n",
      "\n",
      "---\n",
      "\n",
      "### **Why Choose LangGraph?**\n",
      "- **Flexibility**: Adaptable to various AI applications, from simple chatbots to complex autonomous systems.\n",
      "- **Efficiency**: Optimized for performance and scalability.\n",
      "- **Open-Source**: Free to use and modify, with active community contributions.\n",
      "\n",
      "If you’re looking for a robust framework to build AI agents, LangGraph is a strong candidate. Would you like help with a specific implementation or use case?\n"
     ]
    }
   ],
   "source": [
    "human_response = (\n",
    "    \"We, the experts are here to help! We'd recommend you check out LangGraph to build your agent.\"\n",
    "    \" It's much more reliable and extensible than simple autonomous agents.\"\n",
    "    \"can you search the LangGraph in web an give a detail answer\"\n",
    ")\n",
    "\n",
    "human_command = Command(resume={\"data\": human_response})\n",
    "\n",
    "events = graph.stream(human_command, config, stream_mode=\"values\")\n",
    "for event in events:\n",
    "    if \"messages\" in event:\n",
    "        event[\"messages\"][-1].pretty_print()"
   ]
  },
  {
   "cell_type": "code",
   "execution_count": 20,
   "id": "d81d1db3",
   "metadata": {},
   "outputs": [
    {
     "ename": "TypeError",
     "evalue": "string indices must be integers, not 'str'",
     "output_type": "error",
     "traceback": [
      "\u001b[0;31m---------------------------------------------------------------------------\u001b[0m",
      "\u001b[0;31mTypeError\u001b[0m                                 Traceback (most recent call last)",
      "Cell \u001b[0;32mIn[20], line 5\u001b[0m\n\u001b[1;32m      3\u001b[0m \u001b[38;5;28;01mfor\u001b[39;00m event \u001b[38;5;129;01min\u001b[39;00m events:\n\u001b[1;32m      4\u001b[0m     \u001b[38;5;28;01mif\u001b[39;00m \u001b[38;5;124m\"\u001b[39m\u001b[38;5;124mmessages\u001b[39m\u001b[38;5;124m\"\u001b[39m \u001b[38;5;129;01min\u001b[39;00m event:\n\u001b[0;32m----> 5\u001b[0m         event[\u001b[38;5;124m\"\u001b[39m\u001b[38;5;124mmessages\u001b[39m\u001b[38;5;124m\"\u001b[39m][\u001b[38;5;241m-\u001b[39m\u001b[38;5;241m1\u001b[39m]\u001b[38;5;241m.\u001b[39mpretty_print()\n",
      "\u001b[0;31mTypeError\u001b[0m: string indices must be integers, not 'str'"
     ]
    }
   ],
   "source": [
    "user_input='introduce the deepseek model'\n",
    "events = graph.invoke(    {\"messages\": [{\"role\": \"user\", \"content\": user_input}]},config,)\n",
    "for event in events:\n",
    "    if \"messages\" in event:\n",
    "        event[\"messages\"][-1].pretty_print()"
   ]
  },
  {
   "cell_type": "code",
   "execution_count": 43,
   "id": "13387be2",
   "metadata": {},
   "outputs": [],
   "source": [
    "llm = ChatDeepSeek(\n",
    "    model=\"deepseek-chat\",\n",
    "    temperature=1,\n",
    "    timeout=None,\n",
    "    max_retries=2,\n",
    "    )\n"
   ]
  },
  {
   "cell_type": "code",
   "execution_count": 45,
   "id": "30d9ac82",
   "metadata": {},
   "outputs": [],
   "source": [
    "from langgraph.checkpoint.memory import InMemorySaver\n",
    "from langgraph.types import interrupt\n",
    "from langgraph.prebuilt import create_react_agent\n",
    "\n",
    "# An example of a sensitive tool that requires human review / approval\n",
    "def book_hotel(hotel_name: str):\n",
    "    \"\"\"Book a hotel\"\"\"\n",
    "    response = interrupt(  \n",
    "        f\"Trying to call `book_hotel` with args {{'hotel_name': {hotel_name}}}. \"\n",
    "        \"Please approve or suggest edits.\"\n",
    "    )\n",
    "    if response[\"type\"] == \"accept\":\n",
    "        pass\n",
    "    elif response[\"type\"] == \"edit\":\n",
    "        hotel_name = response[\"args\"][\"hotel_name\"]\n",
    "    else:\n",
    "        raise ValueError(f\"Unknown response type: {response['type']}\")\n",
    "    return f\"Successfully booked a stay at {hotel_name}.\"\n",
    "\n",
    "checkpointer = InMemorySaver() \n",
    "\n",
    "agent = create_react_agent(\n",
    "    model=llm,\n",
    "    tools=[book_hotel],\n",
    "    checkpointer=checkpointer, \n",
    ")"
   ]
  },
  {
   "cell_type": "code",
   "execution_count": 46,
   "id": "cbb4dbc6",
   "metadata": {},
   "outputs": [
    {
     "name": "stdout",
     "output_type": "stream",
     "text": [
      "{'agent': {'messages': [AIMessage(content='', additional_kwargs={'tool_calls': [{'id': 'call_0_3554361c-bc12-405f-9c5a-978ccad48cf7', 'function': {'arguments': '{\"hotel_name\":\"McKittrick hotel\"}', 'name': 'book_hotel'}, 'type': 'function', 'index': 0}], 'refusal': None}, response_metadata={'token_usage': {'completion_tokens': 35, 'prompt_tokens': 111, 'total_tokens': 146, 'completion_tokens_details': None, 'prompt_tokens_details': {'audio_tokens': None, 'cached_tokens': 0}, 'prompt_cache_hit_tokens': 0, 'prompt_cache_miss_tokens': 111}, 'model_name': 'deepseek-chat', 'system_fingerprint': 'fp_8802369eaa_prod0623_fp8_kvcache', 'finish_reason': 'tool_calls', 'logprobs': None}, id='run--1a7560eb-a56a-4d12-a075-a7e3476eb846-0', tool_calls=[{'name': 'book_hotel', 'args': {'hotel_name': 'McKittrick hotel'}, 'id': 'call_0_3554361c-bc12-405f-9c5a-978ccad48cf7', 'type': 'tool_call'}], usage_metadata={'input_tokens': 111, 'output_tokens': 35, 'total_tokens': 146, 'input_token_details': {'cache_read': 0}, 'output_token_details': {}})]}}\n",
      "\n",
      "\n",
      "{'__interrupt__': (Interrupt(value=\"Trying to call `book_hotel` with args {'hotel_name': McKittrick hotel}. Please approve or suggest edits.\", resumable=True, ns=['tools:0228b182-471b-5660-08fc-e9b890394ea4']),)}\n",
      "\n",
      "\n"
     ]
    }
   ],
   "source": [
    "config = {\n",
    "   \"configurable\": {\n",
    "      \"thread_id\": \"1\"\n",
    "   }\n",
    "}\n",
    "\n",
    "for chunk in agent.stream(\n",
    "    {\"messages\": [{\"role\": \"user\", \"content\": \"book a stay at McKittrick hotel\"}]},\n",
    "    config\n",
    "):\n",
    "    print(chunk)\n",
    "    print(\"\\n\")"
   ]
  },
  {
   "cell_type": "code",
   "execution_count": 47,
   "id": "839ae67f",
   "metadata": {},
   "outputs": [
    {
     "name": "stdout",
     "output_type": "stream",
     "text": [
      "{'tools': {'messages': [ToolMessage(content='Successfully booked a stay at McKittrick hotel.', name='book_hotel', id='cba6be42-894e-4cd0-b9c9-a4b70f9b813e', tool_call_id='call_0_3554361c-bc12-405f-9c5a-978ccad48cf7')]}}\n",
      "\n",
      "\n",
      "{'agent': {'messages': [AIMessage(content=\"Your stay at the McKittrick hotel has been successfully booked! Let me know if there's anything else you'd like to arrange.\", additional_kwargs={'refusal': None}, response_metadata={'token_usage': {'completion_tokens': 27, 'prompt_tokens': 153, 'total_tokens': 180, 'completion_tokens_details': None, 'prompt_tokens_details': {'audio_tokens': None, 'cached_tokens': 64}, 'prompt_cache_hit_tokens': 64, 'prompt_cache_miss_tokens': 89}, 'model_name': 'deepseek-chat', 'system_fingerprint': 'fp_8802369eaa_prod0623_fp8_kvcache', 'finish_reason': 'stop', 'logprobs': None}, id='run--0e5ba368-4710-40fe-bcfe-f4ccc180f020-0', usage_metadata={'input_tokens': 153, 'output_tokens': 27, 'total_tokens': 180, 'input_token_details': {'cache_read': 64}, 'output_token_details': {}})]}}\n",
      "\n",
      "\n"
     ]
    }
   ],
   "source": [
    "from langgraph.types import Command\n",
    "\n",
    "for chunk in agent.stream(\n",
    "    Command(resume={\"type\": \"accept\"}),  \n",
    "    # Command(resume={\"type\": \"edit\", \"args\": {\"hotel_name\": \"McKittrick Hotel\"}}),\n",
    "    config\n",
    "):\n",
    "    print(chunk)\n",
    "    print(\"\\n\")"
   ]
  },
  {
   "cell_type": "code",
   "execution_count": 48,
   "id": "5b1620ef",
   "metadata": {},
   "outputs": [
    {
     "name": "stdout",
     "output_type": "stream",
     "text": [
      "[Interrupt(value='Please enter your age (must be a non-negative integer).', resumable=True, ns=['get_valid_age:8bff879a-ed1e-e0bd-8c0e-5ff98d0ae8f6'])]\n",
      "[Interrupt(value=\"'not a number' is not valid. Please enter a non-negative integer for age.\", resumable=True, ns=['get_valid_age:8bff879a-ed1e-e0bd-8c0e-5ff98d0ae8f6'])]\n",
      "[Interrupt(value=\"'-10' is not valid. Please enter a non-negative integer for age.\", resumable=True, ns=['get_valid_age:8bff879a-ed1e-e0bd-8c0e-5ff98d0ae8f6'])]\n",
      "✅ Human is 25 years old.\n",
      "{'age': 25}\n"
     ]
    }
   ],
   "source": [
    "from typing import TypedDict\n",
    "import uuid\n",
    "\n",
    "from langgraph.constants import START, END\n",
    "from langgraph.graph import StateGraph\n",
    "from langgraph.types import interrupt, Command\n",
    "from langgraph.checkpoint.memory import MemorySaver\n",
    "\n",
    "# Define graph state\n",
    "class State(TypedDict):\n",
    "    age: int\n",
    "\n",
    "# Node that asks for human input and validates it\n",
    "def get_valid_age(state: State) -> State:\n",
    "    prompt = \"Please enter your age (must be a non-negative integer).\"\n",
    "\n",
    "    while True:\n",
    "        user_input = interrupt(prompt)\n",
    "\n",
    "        # Validate the input\n",
    "        try:\n",
    "            age = int(user_input)\n",
    "            if age < 0:\n",
    "                raise ValueError(\"Age must be non-negative.\")\n",
    "            break  # Valid input received\n",
    "        except (ValueError, TypeError):\n",
    "            prompt = f\"'{user_input}' is not valid. Please enter a non-negative integer for age.\"\n",
    "\n",
    "    return {\"age\": age}\n",
    "\n",
    "# Node that uses the valid input\n",
    "def report_age(state: State) -> State:\n",
    "    print(f\"✅ Human is {state['age']} years old.\")\n",
    "    return state\n",
    "\n",
    "# Build the graph\n",
    "builder = StateGraph(State)\n",
    "builder.add_node(\"get_valid_age\", get_valid_age)\n",
    "builder.add_node(\"report_age\", report_age)\n",
    "\n",
    "builder.set_entry_point(\"get_valid_age\")\n",
    "builder.add_edge(\"get_valid_age\", \"report_age\")\n",
    "builder.add_edge(\"report_age\", END)\n",
    "\n",
    "# Create the graph with a memory checkpointer\n",
    "checkpointer = MemorySaver()\n",
    "graph = builder.compile(checkpointer=checkpointer)\n",
    "\n",
    "# Run the graph until the first interrupt\n",
    "config = {\"configurable\": {\"thread_id\": uuid.uuid4()}}\n",
    "result = graph.invoke({}, config=config)\n",
    "print(result[\"__interrupt__\"])  # First prompt: \"Please enter your age...\"\n",
    "\n",
    "# Simulate an invalid input (e.g., string instead of integer)\n",
    "result = graph.invoke(Command(resume=\"not a number\"), config=config)\n",
    "print(result[\"__interrupt__\"])  # Follow-up prompt with validation message\n",
    "\n",
    "# Simulate a second invalid input (e.g., negative number)\n",
    "result = graph.invoke(Command(resume=\"-10\"), config=config)\n",
    "print(result[\"__interrupt__\"])  # Another retry\n",
    "\n",
    "# Provide valid input\n",
    "final_result = graph.invoke(Command(resume=\"25\"), config=config)\n",
    "print(final_result)  # Should include the valid age"
   ]
  },
  {
   "cell_type": "code",
   "execution_count": null,
   "id": "8d4791a6",
   "metadata": {},
   "outputs": [],
   "source": []
  }
 ],
 "metadata": {
  "kernelspec": {
   "display_name": "base",
   "language": "python",
   "name": "python3"
  },
  "language_info": {
   "codemirror_mode": {
    "name": "ipython",
    "version": 3
   },
   "file_extension": ".py",
   "mimetype": "text/x-python",
   "name": "python",
   "nbconvert_exporter": "python",
   "pygments_lexer": "ipython3",
   "version": "3.12.7"
  }
 },
 "nbformat": 4,
 "nbformat_minor": 5
}
