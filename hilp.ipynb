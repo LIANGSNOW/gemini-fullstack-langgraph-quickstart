{
 "cells": [
  {
   "cell_type": "code",
   "execution_count": 11,
   "id": "4289ab73",
   "metadata": {},
   "outputs": [
    {
     "data": {
      "text/plain": [
       "True"
      ]
     },
     "execution_count": 11,
     "metadata": {},
     "output_type": "execute_result"
    }
   ],
   "source": [
    "from langchain_deepseek import ChatDeepSeek\n",
    "from dotenv import load_dotenv\n",
    "from langgraph.types import Command,interrupt\n",
    "from langgraph.checkpoint.memory import InMemorySaver,MemorySaver\n",
    "from langgraph.constants import START,END\n",
    "from langgraph.graph import StateGraph \n",
    "from typing import List, Dict, Any,TypedDict\n",
    "from typing_extensions import Annotated\n",
    "from langgraph.graph.message import add_messages\n",
    "from langgraph.types import Send\n",
    "import json_repair\n",
    "\n",
    "load_dotenv()"
   ]
  },
  {
   "cell_type": "code",
   "execution_count": 2,
   "id": "18487d35",
   "metadata": {},
   "outputs": [],
   "source": [
    "llm = ChatDeepSeek(\n",
    "    model=\"deepseek-chat\",\n",
    "    temperature=1,\n",
    "    timeout=None,\n",
    "    max_retries=2,\n",
    "    )\n",
    "\n",
    "class startState(TypedDict):\n",
    "    messages: Annotated[list,add_messages]\n",
    "    plan: str\n",
    "    decision: str\n",
    "class tempState(TypedDict):\n",
    "    question: str\n",
    "\n",
    "def generate_plan(state: startState) -> str:\n",
    "    llm = ChatDeepSeek(\n",
    "        model=\"deepseek-reasoner\",\n",
    "        temperature=1,\n",
    "        timeout=None,\n",
    "        max_retries=2,\n",
    "        )\n",
    "    # print( state[\"messages\"][-1].content)\n",
    "    # print( state[\"plan\"])\n",
    "\n",
    "    prompt = \"\"\"\n",
    "    you need generate a plan to answer the question: {question}\n",
    "\n",
    "    you plan should be a json object with the following keys:\n",
    "    - step1:\n",
    "    - step2:\n",
    "    - step3:\n",
    "    \"\"\"\n",
    "    response = llm.invoke(prompt)\n",
    "    import json_repair\n",
    "\n",
    "    decoded_object = json_repair.loads(response.content)\n",
    "    # print(response)\n",
    "    return {'question': response.content,'plan': decoded_object,}\n",
    "\n",
    "def just_q(state: tempState):\n",
    "    result = interrupt(\n",
    "        {\n",
    "        'messages': 'do you agree with this',\n",
    "        'the plan is: ':state['question']\n",
    "        }\n",
    "    )\n",
    "    return {'decision': result['decision']}\n",
    "\n",
    "def split_point(state: startState):\n",
    "    print('this is the state')\n",
    "    if state['decision'] == 'yes':\n",
    "        return  [\n",
    "        Send(\"acc_end\", {'res':'good'})\n",
    "    ]\n",
    "    else:\n",
    "        return  [\n",
    "        Send(\"wa_end\", {'res':'bad bda'})\n",
    "    ]\n",
    "     \n",
    "\n",
    "def acc_end(input:dict):\n",
    "    print(input)\n",
    "    return \n",
    "\n",
    "def wa_end(input:dict):\n",
    "    print(input)\n",
    "    return \n",
    "\n",
    "builder = StateGraph(startState)\n",
    "builder.add_node(\"generate_plan\", generate_plan)\n",
    "builder.add_node(\"just_q\", just_q)\n",
    "builder.add_node(\"acc_end\", acc_end)\n",
    "builder.add_node(\"wa_end\", wa_end)\n",
    "\n",
    "\n",
    "builder.add_edge(START, \"generate_plan\")\n",
    "builder.add_edge(\"generate_plan\", \"just_q\")\n",
    "# builder.add_edge(\"just_q\", END)\n",
    "builder.add_conditional_edges(\n",
    "    \"just_q\", split_point, [\"acc_end\",\"wa_end\"]\n",
    ")\n",
    "builder.add_edge(\"acc_end\", END)\n",
    "builder.add_edge(\"wa_end\", END)\n",
    "\n",
    "checkpointer = InMemorySaver()\n",
    "\n",
    "graph = builder.compile(name=\"pro-search-agent\",checkpointer=checkpointer)\n"
   ]
  },
  {
   "cell_type": "code",
   "execution_count": 3,
   "id": "c4ed55e7",
   "metadata": {},
   "outputs": [
    {
     "data": {
      "image/png": "[encoded data removed]",
      "text/plain": [
       "<langgraph.graph.state.CompiledStateGraph object at 0x113fd3ef0>"
      ]
     },
     "execution_count": 3,
     "metadata": {},
     "output_type": "execute_result"
    }
   ],
   "source": [
    "graph"
   ]
  },
  {
   "cell_type": "code",
   "execution_count": 4,
   "id": "889c9bd4",
   "metadata": {},
   "outputs": [
    {
     "data": {
      "text/plain": [
       "{'messages': [HumanMessage(content='how to build a DR which can write code to solve problems', additional_kwargs={}, response_metadata={}, id='51a6637f-5bc1-46f2-9883-72c9f87dda27')],\n",
       " 'plan': {'step1': 'Understand and clarify the key elements of the question: {question}. Identify the main subject, required information type (e.g., factual, explanatory, comparative), and any ambiguous terms needing definition.',\n",
       "  'step2': 'Gather relevant data or knowledge: Retrieve facts, concepts, or processes related to the question using reliable sources (e.g., academic databases, verified datasets, or established knowledge bases). Cross-reference information if needed.',\n",
       "  'step3': 'Synthesize and structure the answer: Analyze the collected information for accuracy and relevance. Organize key points logically, address all parts of the question, and formulate a clear, concise response.'},\n",
       " '__interrupt__': [Interrupt(value={'messages': 'do you agree with this', 'the plan is: ': '```json\\n{\\n  \"step1\": \"Understand and clarify the key elements of the question: {question}. Identify the main subject, required information type (e.g., factual, explanatory, comparative), and any ambiguous terms needing definition.\",\\n  \"step2\": \"Gather relevant data or knowledge: Retrieve facts, concepts, or processes related to the question using reliable sources (e.g., academic databases, verified datasets, or established knowledge bases). Cross-reference information if needed.\",\\n  \"step3\": \"Synthesize and structure the answer: Analyze the collected information for accuracy and relevance. Organize key points logically, address all parts of the question, and formulate a clear, concise response.\"\\n}\\n```'}, resumable=True, ns=['just_q:65349db9-6b8a-424c-39c5-ede39d150fc5'])]}"
      ]
     },
     "execution_count": 4,
     "metadata": {},
     "output_type": "execute_result"
    }
   ],
   "source": [
    "config = {\"configurable\": {\"thread_id\": 'thread_1'}}\n",
    "\n",
    "graph.invoke({\"messages\":   \"how to build a DR which can write code to solve problems\",},config=config)\n"
   ]
  },
  {
   "cell_type": "code",
   "execution_count": 5,
   "id": "5971851a",
   "metadata": {},
   "outputs": [
    {
     "name": "stdout",
     "output_type": "stream",
     "text": [
      "this is the state\n",
      "{'res': 'good'}\n"
     ]
    }
   ],
   "source": [
    "edited_summary = \"The cat lay on the rug, gazing peacefully at the night sky.\"\n",
    "resumed_result = graph.invoke(\n",
    "    Command(resume={\"decision\": 'yes'}),\n",
    "    config=config\n",
    ")"
   ]
  },
  {
   "cell_type": "code",
   "execution_count": 6,
   "id": "a64b178a",
   "metadata": {},
   "outputs": [
    {
     "data": {
      "text/plain": [
       "{'step1': 'Understand and clarify the key elements of the question: {question}. Identify the main subject, required information type (e.g., factual, explanatory, comparative), and any ambiguous terms needing definition.',\n",
       " 'step2': 'Gather relevant data or knowledge: Retrieve facts, concepts, or processes related to the question using reliable sources (e.g., academic databases, verified datasets, or established knowledge bases). Cross-reference information if needed.',\n",
       " 'step3': 'Synthesize and structure the answer: Analyze the collected information for accuracy and relevance. Organize key points logically, address all parts of the question, and formulate a clear, concise response.'}"
      ]
     },
     "execution_count": 6,
     "metadata": {},
     "output_type": "execute_result"
    }
   ],
   "source": [
    "resumed_result['plan']"
   ]
  },
  {
   "cell_type": "code",
   "execution_count": 24,
   "id": "0890f56b",
   "metadata": {},
   "outputs": [],
   "source": [
    "class State(TypedDict):\n",
    "    messages: Annotated[list, add_messages]\n",
    "\n",
    "def chatbot(state: State):\n",
    "    llm = ChatDeepSeek(\n",
    "        model=\"deepseek-chat\",\n",
    "        temperature=1,\n",
    "        timeout=None,\n",
    "        max_retries=2,\n",
    "        )\n",
    "    response = llm.invoke(state[\"messages\"])\n",
    "\n",
    "\n",
    "    return {'messages':response.content}\n",
    "\n",
    "builder = StateGraph(State)\n",
    "builder.add_node(\"chatbot\", chatbot)\n",
    "builder.add_edge(START, \"chatbot\")\n",
    "builder.add_edge(\"chatbot\", END)\n",
    "\n",
    "checkpointer = InMemorySaver()\n",
    "\n",
    "graph = builder.compile(name=\"pro-search-agent\",checkpointer=checkpointer)\n"
   ]
  },
  {
   "cell_type": "code",
   "execution_count": 25,
   "id": "12421af1",
   "metadata": {},
   "outputs": [
    {
     "data": {
      "text/plain": [
       "{'messages': [HumanMessage(content='my name is liang, I want to have a conversation with you', additional_kwargs={}, response_metadata={}, id='b0930349-7026-411d-b95c-cdaa2b9be7c1'),\n",
       "  HumanMessage(content=\"Hello, Liang! It's nice to meet you. 😊 What would you like to talk about today? I'm happy to chat about anything—your interests, hobbies, questions you have, or even just random thoughts. Let me know what's on your mind!  \\n\\n(For example: Are you into music, books, or tech? Or maybe you'd like help with something?)  \\n\\nLooking forward to our conversation!\", additional_kwargs={}, response_metadata={}, id='185a5a48-f408-4a47-9aff-e30ee9d76e38')]}"
      ]
     },
     "execution_count": 25,
     "metadata": {},
     "output_type": "execute_result"
    }
   ],
   "source": [
    "config = {\"configurable\": {\"thread_id\": 'thread_1'}}\n",
    "user_input = 'my name is liang, I want to have a conversation with you'\n",
    "graph.invoke({\"messages\":  [{'role':'user','content':user_input}],},config=config)\n"
   ]
  },
  {
   "cell_type": "code",
   "execution_count": 26,
   "id": "28d37a1a",
   "metadata": {},
   "outputs": [
    {
     "data": {
      "text/plain": [
       "{'messages': [HumanMessage(content='my name is liang, I want to have a conversation with you', additional_kwargs={}, response_metadata={}, id='b0930349-7026-411d-b95c-cdaa2b9be7c1'),\n",
       "  HumanMessage(content=\"Hello, Liang! It's nice to meet you. 😊 What would you like to talk about today? I'm happy to chat about anything—your interests, hobbies, questions you have, or even just random thoughts. Let me know what's on your mind!  \\n\\n(For example: Are you into music, books, or tech? Or maybe you'd like help with something?)  \\n\\nLooking forward to our conversation!\", additional_kwargs={}, response_metadata={}, id='185a5a48-f408-4a47-9aff-e30ee9d76e38'),\n",
       "  HumanMessage(content='do you remember my name?', additional_kwargs={}, response_metadata={}, id='232f35b4-e4a5-457d-984b-ed13bfb02a27'),\n",
       "  HumanMessage(content='Yes, of course! Your name is **Liang**—you mentioned it at the start of our conversation. 😊 I’ll do my best to remember it for as long as we’re chatting (though if you leave and come back later, I might need a reminder since I don’t retain memory between chats).  \\n\\nWhat’s next, Liang? Any fun topics or questions today?', additional_kwargs={}, response_metadata={}, id='e07f0f1c-9b76-4c35-9687-72e155eb464d')]}"
      ]
     },
     "execution_count": 26,
     "metadata": {},
     "output_type": "execute_result"
    }
   ],
   "source": [
    "config = {\"configurable\": {\"thread_id\": 'thread_1'}}\n",
    "user_input = 'do you remember my name?'\n",
    "graph.invoke({\"messages\":  [{'role':'user','content':user_input}],},config=config)"
   ]
  },
  {
   "cell_type": "code",
   "execution_count": null,
   "id": "9a6e1abf",
   "metadata": {},
   "outputs": [],
   "source": []
  },
  {
   "cell_type": "code",
   "execution_count": null,
   "id": "667a16d6",
   "metadata": {},
   "outputs": [],
   "source": []
  },
  {
   "cell_type": "code",
   "execution_count": null,
   "id": "a8dcd506",
   "metadata": {},
   "outputs": [],
   "source": []
  }
 ],
 "metadata": {
  "kernelspec": {
   "display_name": "base",
   "language": "python",
   "name": "python3"
  },
  "language_info": {
   "codemirror_mode": {
    "name": "ipython",
    "version": 3
   },
   "file_extension": ".py",
   "mimetype": "text/x-python",
   "name": "python",
   "nbconvert_exporter": "python",
   "pygments_lexer": "ipython3",
   "version": "3.12.7"
  }
 },
 "nbformat": 4,
 "nbformat_minor": 5
}
